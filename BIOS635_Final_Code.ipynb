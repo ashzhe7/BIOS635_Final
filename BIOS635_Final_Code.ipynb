{
 "cells": [
  {
   "cell_type": "code",
   "execution_count": 9,
   "id": "a19400a7",
   "metadata": {
    "scrolled": true
   },
   "outputs": [],
   "source": [
    "import pandas as pd\n",
    "import numpy as np\n",
    "import matplotlib.pyplot as plt\n",
    "import seaborn as sns\n",
    "\n",
    "import warnings\n",
    "warnings.simplefilter(action='ignore', category=FutureWarning)"
   ]
  },
  {
   "cell_type": "code",
   "execution_count": 10,
   "id": "57dbb8db",
   "metadata": {},
   "outputs": [],
   "source": [
    "# Load data for Tram\n",
    "data = pd.read_csv(\"/Users/tbhuynh/Desktop/UNC_PHD/BIOS635/Final Project/train.csv\")\n",
    "submission = pd.read_csv(\"/Users/tbhuynh/Desktop/UNC_PHD/BIOS635/Final Project/test.csv\")\n",
    "\n",
    "# Save the 'id' column from submission before dropping\n",
    "submission_ids = submission['id'].copy()\n",
    "\n",
    "# Drop 'id' and 'Name' from both datasets\n",
    "data.drop(columns=['id', 'Name'], inplace=True)\n",
    "submission.drop(columns=['id', 'Name'], inplace=True)\n"
   ]
  },
  {
   "cell_type": "code",
   "execution_count": 16,
   "id": "786a8b4f",
   "metadata": {},
   "outputs": [],
   "source": [
    "# Load data for Ashley\n",
    "#data = pd.read_csv(\"C:/Users/ashle/OneDrive/Documents/Courses/UNC Courses/BIOS 635 - ML/Final/train.csv\")\n",
    "#submission = pd.read_csv(\"C:/Users/ashle/OneDrive/Documents/Courses/UNC Courses/BIOS 635 - ML/Final/test.csv\")"
   ]
  },
  {
   "cell_type": "markdown",
   "id": "fa86489e",
   "metadata": {},
   "source": [
    "# Data Preprocessing"
   ]
  },
  {
   "cell_type": "code",
   "execution_count": 11,
   "id": "8f6606a3",
   "metadata": {},
   "outputs": [
    {
     "name": "stdout",
     "output_type": "stream",
     "text": [
      "(140700, 18)\n",
      "(93800, 17)\n"
     ]
    },
    {
     "data": {
      "text/html": [
       "<div>\n",
       "<style scoped>\n",
       "    .dataframe tbody tr th:only-of-type {\n",
       "        vertical-align: middle;\n",
       "    }\n",
       "\n",
       "    .dataframe tbody tr th {\n",
       "        vertical-align: top;\n",
       "    }\n",
       "\n",
       "    .dataframe thead th {\n",
       "        text-align: right;\n",
       "    }\n",
       "</style>\n",
       "<table border=\"1\" class=\"dataframe\">\n",
       "  <thead>\n",
       "    <tr style=\"text-align: right;\">\n",
       "      <th></th>\n",
       "      <th>Gender</th>\n",
       "      <th>Age</th>\n",
       "      <th>City</th>\n",
       "      <th>Working Professional or Student</th>\n",
       "      <th>Profession</th>\n",
       "      <th>Academic Pressure</th>\n",
       "      <th>Work Pressure</th>\n",
       "      <th>CGPA</th>\n",
       "      <th>Study Satisfaction</th>\n",
       "      <th>Job Satisfaction</th>\n",
       "      <th>Sleep Duration</th>\n",
       "      <th>Dietary Habits</th>\n",
       "      <th>Degree</th>\n",
       "      <th>Have you ever had suicidal thoughts ?</th>\n",
       "      <th>Work/Study Hours</th>\n",
       "      <th>Financial Stress</th>\n",
       "      <th>Family History of Mental Illness</th>\n",
       "      <th>Depression</th>\n",
       "    </tr>\n",
       "  </thead>\n",
       "  <tbody>\n",
       "    <tr>\n",
       "      <th>0</th>\n",
       "      <td>Female</td>\n",
       "      <td>49.0</td>\n",
       "      <td>Ludhiana</td>\n",
       "      <td>Working Professional</td>\n",
       "      <td>Chef</td>\n",
       "      <td>NaN</td>\n",
       "      <td>5.0</td>\n",
       "      <td>NaN</td>\n",
       "      <td>NaN</td>\n",
       "      <td>2.0</td>\n",
       "      <td>More than 8 hours</td>\n",
       "      <td>Healthy</td>\n",
       "      <td>BHM</td>\n",
       "      <td>No</td>\n",
       "      <td>1.0</td>\n",
       "      <td>2.0</td>\n",
       "      <td>No</td>\n",
       "      <td>0</td>\n",
       "    </tr>\n",
       "    <tr>\n",
       "      <th>1</th>\n",
       "      <td>Male</td>\n",
       "      <td>26.0</td>\n",
       "      <td>Varanasi</td>\n",
       "      <td>Working Professional</td>\n",
       "      <td>Teacher</td>\n",
       "      <td>NaN</td>\n",
       "      <td>4.0</td>\n",
       "      <td>NaN</td>\n",
       "      <td>NaN</td>\n",
       "      <td>3.0</td>\n",
       "      <td>Less than 5 hours</td>\n",
       "      <td>Unhealthy</td>\n",
       "      <td>LLB</td>\n",
       "      <td>Yes</td>\n",
       "      <td>7.0</td>\n",
       "      <td>3.0</td>\n",
       "      <td>No</td>\n",
       "      <td>1</td>\n",
       "    </tr>\n",
       "    <tr>\n",
       "      <th>2</th>\n",
       "      <td>Male</td>\n",
       "      <td>33.0</td>\n",
       "      <td>Visakhapatnam</td>\n",
       "      <td>Student</td>\n",
       "      <td>NaN</td>\n",
       "      <td>5.0</td>\n",
       "      <td>NaN</td>\n",
       "      <td>8.97</td>\n",
       "      <td>2.0</td>\n",
       "      <td>NaN</td>\n",
       "      <td>5-6 hours</td>\n",
       "      <td>Healthy</td>\n",
       "      <td>B.Pharm</td>\n",
       "      <td>Yes</td>\n",
       "      <td>3.0</td>\n",
       "      <td>1.0</td>\n",
       "      <td>No</td>\n",
       "      <td>1</td>\n",
       "    </tr>\n",
       "    <tr>\n",
       "      <th>3</th>\n",
       "      <td>Male</td>\n",
       "      <td>22.0</td>\n",
       "      <td>Mumbai</td>\n",
       "      <td>Working Professional</td>\n",
       "      <td>Teacher</td>\n",
       "      <td>NaN</td>\n",
       "      <td>5.0</td>\n",
       "      <td>NaN</td>\n",
       "      <td>NaN</td>\n",
       "      <td>1.0</td>\n",
       "      <td>Less than 5 hours</td>\n",
       "      <td>Moderate</td>\n",
       "      <td>BBA</td>\n",
       "      <td>Yes</td>\n",
       "      <td>10.0</td>\n",
       "      <td>1.0</td>\n",
       "      <td>Yes</td>\n",
       "      <td>1</td>\n",
       "    </tr>\n",
       "    <tr>\n",
       "      <th>4</th>\n",
       "      <td>Female</td>\n",
       "      <td>30.0</td>\n",
       "      <td>Kanpur</td>\n",
       "      <td>Working Professional</td>\n",
       "      <td>Business Analyst</td>\n",
       "      <td>NaN</td>\n",
       "      <td>1.0</td>\n",
       "      <td>NaN</td>\n",
       "      <td>NaN</td>\n",
       "      <td>1.0</td>\n",
       "      <td>5-6 hours</td>\n",
       "      <td>Unhealthy</td>\n",
       "      <td>BBA</td>\n",
       "      <td>Yes</td>\n",
       "      <td>9.0</td>\n",
       "      <td>4.0</td>\n",
       "      <td>Yes</td>\n",
       "      <td>0</td>\n",
       "    </tr>\n",
       "  </tbody>\n",
       "</table>\n",
       "</div>"
      ],
      "text/plain": [
       "   Gender   Age           City Working Professional or Student  \\\n",
       "0  Female  49.0       Ludhiana            Working Professional   \n",
       "1    Male  26.0       Varanasi            Working Professional   \n",
       "2    Male  33.0  Visakhapatnam                         Student   \n",
       "3    Male  22.0         Mumbai            Working Professional   \n",
       "4  Female  30.0         Kanpur            Working Professional   \n",
       "\n",
       "         Profession  Academic Pressure  Work Pressure  CGPA  \\\n",
       "0              Chef                NaN            5.0   NaN   \n",
       "1           Teacher                NaN            4.0   NaN   \n",
       "2               NaN                5.0            NaN  8.97   \n",
       "3           Teacher                NaN            5.0   NaN   \n",
       "4  Business Analyst                NaN            1.0   NaN   \n",
       "\n",
       "   Study Satisfaction  Job Satisfaction     Sleep Duration Dietary Habits  \\\n",
       "0                 NaN               2.0  More than 8 hours        Healthy   \n",
       "1                 NaN               3.0  Less than 5 hours      Unhealthy   \n",
       "2                 2.0               NaN          5-6 hours        Healthy   \n",
       "3                 NaN               1.0  Less than 5 hours       Moderate   \n",
       "4                 NaN               1.0          5-6 hours      Unhealthy   \n",
       "\n",
       "    Degree Have you ever had suicidal thoughts ?  Work/Study Hours  \\\n",
       "0      BHM                                    No               1.0   \n",
       "1      LLB                                   Yes               7.0   \n",
       "2  B.Pharm                                   Yes               3.0   \n",
       "3      BBA                                   Yes              10.0   \n",
       "4      BBA                                   Yes               9.0   \n",
       "\n",
       "   Financial Stress Family History of Mental Illness  Depression  \n",
       "0               2.0                               No           0  \n",
       "1               3.0                               No           1  \n",
       "2               1.0                               No           1  \n",
       "3               1.0                              Yes           1  \n",
       "4               4.0                              Yes           0  "
      ]
     },
     "execution_count": 11,
     "metadata": {},
     "output_type": "execute_result"
    }
   ],
   "source": [
    "# Examine data\n",
    "print(data.shape)\n",
    "print(submission.shape)\n",
    "\n",
    "data.head()"
   ]
  },
  {
   "cell_type": "code",
   "execution_count": 12,
   "id": "1c776c6f",
   "metadata": {},
   "outputs": [
    {
     "name": "stdout",
     "output_type": "stream",
     "text": [
      "Gender: 0.00% missing\n",
      "Age: 0.00% missing\n",
      "City: 0.00% missing\n",
      "Working Professional or Student: 0.00% missing\n",
      "Profession: 26.03% missing\n",
      "Academic Pressure: 80.17% missing\n",
      "Work Pressure: 19.84% missing\n",
      "CGPA: 80.17% missing\n",
      "Study Satisfaction: 80.17% missing\n",
      "Job Satisfaction: 19.84% missing\n",
      "Sleep Duration: 0.00% missing\n",
      "Dietary Habits: 0.00% missing\n",
      "Degree: 0.00% missing\n",
      "Have you ever had suicidal thoughts ?: 0.00% missing\n",
      "Work/Study Hours: 0.00% missing\n",
      "Financial Stress: 0.00% missing\n",
      "Family History of Mental Illness: 0.00% missing\n",
      "Depression: 0.00% missing\n"
     ]
    }
   ],
   "source": [
    "# Examining missing data for training set\n",
    "\n",
    "# Calculate percentage of NaNs per column\n",
    "nan = data.isna().mean() * 100\n",
    "\n",
    "for col, i in nan.items():\n",
    "    print(f\"{col}: {i:.2f}% missing\")"
   ]
  },
  {
   "cell_type": "markdown",
   "id": "5d0664a7",
   "metadata": {},
   "source": [
    "Academic Pressure, CGPA, and Study Satisfaction all have substantial amount of missing data (80.17%). Replacing it with the mean may introduce bias. "
   ]
  },
  {
   "cell_type": "code",
   "execution_count": 13,
   "id": "68378b50",
   "metadata": {},
   "outputs": [
    {
     "name": "stdout",
     "output_type": "stream",
     "text": [
      "Number of rows with NaN in Train: 140700\n",
      "Number of rows with NaN in Train now: 0\n"
     ]
    }
   ],
   "source": [
    "# Fill numerical variables with median\n",
    "print(f\"Number of rows with NaN in Train: {data.isnull().any(axis=1).sum()}\")\n",
    "\n",
    "for col in data.select_dtypes(include=['number']).columns:  \n",
    "    data[col].fillna(data[col].median(), inplace=True)\n",
    "\n",
    "# Fill categorical variables with mode\n",
    "for col in data.select_dtypes(include=['object']).columns:  \n",
    "    data[col].fillna(data[col].mode()[0], inplace=True)\n",
    "    \n",
    "print(f\"Number of rows with NaN in Train now: {data.isnull().any(axis=1).sum()}\")    "
   ]
  },
  {
   "cell_type": "code",
   "execution_count": 15,
   "id": "c2c19559",
   "metadata": {},
   "outputs": [
    {
     "name": "stdout",
     "output_type": "stream",
     "text": [
      "Number of rows with NaN in Test now: 0\n"
     ]
    }
   ],
   "source": [
    "# Fill submission numerical with median from training data\n",
    "for col in submission.select_dtypes(include=['number']).columns:  \n",
    "    submission[col].fillna(data[col].median(), inplace=True)\n",
    "\n",
    "# Fill submission categorical with mode from training data\n",
    "for col in submission.select_dtypes(include=['object']).columns:  \n",
    "    submission[col].fillna(data[col].mode()[0], inplace=True)\n",
    "\n",
    "# Doing one-hot encoding\n",
    "# Convert categorical variables to dummy/indicator variables\n",
    "data = pd.get_dummies(data, drop_first=True)\n",
    "submission = pd.get_dummies(submission, drop_first=True)\n",
    "\n",
    "# Ensure submission columns align with training features\n",
    "submission = submission.reindex(columns=data.columns.drop('Depression'), fill_value=0)\n",
    "\n",
    "assert set(submission.columns) == set(data.columns) - {'Depression'}, \"Mismatch in columns!\"\n",
    "print(f\"Number of rows with NaN in Test now: {submission.isnull().any(axis=1).sum()}\")    "
   ]
  },
  {
   "cell_type": "markdown",
   "id": "b3f09a92",
   "metadata": {},
   "source": [
    "# Models"
   ]
  },
  {
   "cell_type": "code",
   "execution_count": null,
   "id": "5133447a",
   "metadata": {},
   "outputs": [],
   "source": []
  }
 ],
 "metadata": {
  "kernelspec": {
   "display_name": "Python 3 (ipykernel)",
   "language": "python",
   "name": "python3"
  },
  "language_info": {
   "codemirror_mode": {
    "name": "ipython",
    "version": 3
   },
   "file_extension": ".py",
   "mimetype": "text/x-python",
   "name": "python",
   "nbconvert_exporter": "python",
   "pygments_lexer": "ipython3",
   "version": "3.9.13"
  }
 },
 "nbformat": 4,
 "nbformat_minor": 5
}
